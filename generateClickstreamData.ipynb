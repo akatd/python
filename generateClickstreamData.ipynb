{
 "cells": [
  {
   "cell_type": "markdown",
   "metadata": {},
   "source": [
    "# Modules"
   ]
  },
  {
   "cell_type": "code",
   "execution_count": 1,
   "metadata": {},
   "outputs": [],
   "source": [
    "import pandas as pd\n",
    "import numpy as np\n",
    "import random\n",
    "from itertools import groupby\n",
    "import datetime\n",
    "import re"
   ]
  },
  {
   "cell_type": "markdown",
   "metadata": {},
   "source": [
    "# Clickstream Generation"
   ]
  },
  {
   "cell_type": "markdown",
   "metadata": {},
   "source": [
    "## Initial parameters"
   ]
  },
  {
   "cell_type": "code",
   "execution_count": 2,
   "metadata": {},
   "outputs": [],
   "source": [
    "page_vec = np.array(['page_' + str(i+1) for i in range(5)])\n",
    "sess_vec = np.array(['sess_' + str(i+1) for i in range(50)])\n",
    "cust_vec = np.array(['cust_' + str(i+1) for i in range(30)])"
   ]
  },
  {
   "cell_type": "markdown",
   "metadata": {},
   "source": [
    "## SessionId"
   ]
  },
  {
   "cell_type": "code",
   "execution_count": 3,
   "metadata": {},
   "outputs": [],
   "source": [
    "sess_rep = np.round(np.exp(np.random.randn(len(sess_vec))))\n",
    "sess_rep = np.where(sess_rep == 0, 1, sess_rep)\n",
    "SessionId = np.repeat(sess_vec, list(sess_rep))"
   ]
  },
  {
   "cell_type": "markdown",
   "metadata": {},
   "source": [
    "## CustId"
   ]
  },
  {
   "cell_type": "code",
   "execution_count": 4,
   "metadata": {},
   "outputs": [],
   "source": [
    "cust_draw = [(k, sum(1 for _ in g)) for k, g in groupby(SessionId)]\n",
    "cust_rep = [i[1] for i in cust_draw]\n",
    "CustId = np.repeat(np.random.choice(cust_vec, size=len(sess_vec) ,replace=True), cust_rep)"
   ]
  },
  {
   "cell_type": "markdown",
   "metadata": {},
   "source": [
    "## Page"
   ]
  },
  {
   "cell_type": "code",
   "execution_count": 5,
   "metadata": {},
   "outputs": [],
   "source": [
    "Page = np.random.choice(page_vec, len(SessionId), replace=True)"
   ]
  },
  {
   "cell_type": "markdown",
   "metadata": {},
   "source": [
    "## Timestamp"
   ]
  },
  {
   "cell_type": "code",
   "execution_count": 6,
   "metadata": {},
   "outputs": [],
   "source": [
    "begin_date = datetime.datetime(2018, 7, 7, 0, 0, 0)\n",
    "end_date = datetime.datetime(2018, 7, 7, 23, 59, 59)"
   ]
  },
  {
   "cell_type": "code",
   "execution_count": 7,
   "metadata": {},
   "outputs": [],
   "source": [
    "def sample_datetime(begin, end):\n",
    "    \n",
    "    delta = end - begin\n",
    "    delta_sec = delta.total_seconds()\n",
    "    random_second = random.randrange(delta_sec)\n",
    "    \n",
    "    return begin + datetime.timedelta(seconds=random_second)"
   ]
  },
  {
   "cell_type": "code",
   "execution_count": 8,
   "metadata": {},
   "outputs": [],
   "source": [
    "def generate_ts():\n",
    "    \n",
    "    Timestamp = []\n",
    "    \n",
    "    for i in range(len(sess_vec)):\n",
    "\n",
    "        start = sample_datetime(begin_date, end_date)\n",
    "        session_len = cust_rep[i]\n",
    "        session_max = start + datetime.timedelta(0, 1800)\n",
    "\n",
    "        Timestamp = Timestamp + [sample_datetime(start, session_max) for _ in range(session_len)]\n",
    "    \n",
    "    Timestamp = np.array(Timestamp)\n",
    "    \n",
    "    return Timestamp"
   ]
  },
  {
   "cell_type": "code",
   "execution_count": 9,
   "metadata": {},
   "outputs": [],
   "source": [
    "Timestamp = generate_ts()"
   ]
  },
  {
   "cell_type": "markdown",
   "metadata": {},
   "source": [
    "## Pandas DF"
   ]
  },
  {
   "cell_type": "markdown",
   "metadata": {},
   "source": [
    "create dataframe"
   ]
  },
  {
   "cell_type": "code",
   "execution_count": 10,
   "metadata": {},
   "outputs": [],
   "source": [
    "d = {'SessionId' : SessionId, 'CustId' : CustId, 'Page' : Page, 'Timestamp' : Timestamp}"
   ]
  },
  {
   "cell_type": "code",
   "execution_count": 11,
   "metadata": {},
   "outputs": [],
   "source": [
    "clickstream = pd.DataFrame(d)"
   ]
  },
  {
   "cell_type": "markdown",
   "metadata": {},
   "source": [
    "sort timestamp"
   ]
  },
  {
   "cell_type": "code",
   "execution_count": 12,
   "metadata": {},
   "outputs": [],
   "source": [
    "clickstream = clickstream.sort_values(['SessionId', 'CustId', 'Timestamp']).reset_index()"
   ]
  },
  {
   "cell_type": "markdown",
   "metadata": {},
   "source": [
    "change column order"
   ]
  },
  {
   "cell_type": "code",
   "execution_count": 13,
   "metadata": {},
   "outputs": [],
   "source": [
    "clickstream = clickstream[['SessionId', 'CustId', 'Page', 'Timestamp']]"
   ]
  },
  {
   "cell_type": "code",
   "execution_count": 67,
   "metadata": {},
   "outputs": [],
   "source": [
    "clickstream['PageCnt'] = clickstream.groupby('SessionId')['Page'].transform(lambda x: len(x))\n",
    "clickstream['PageUnq'] = clickstream.groupby('SessionId')['Page'].transform(lambda x: x.nunique())\n",
    "clickstream['Path'] = clickstream.groupby('SessionId')['Page'].transform(lambda x: '[%s]' % ','.join(x))\n",
    "clickstream['Duration'] = clickstream.groupby('SessionId')['Timestamp'].transform(lambda x: x.shift(-1) - x)\n",
    "clickstream['SessionDuration'] = clickstream.groupby('SessionId')['Timestamp'].transform(lambda x: x.max() - x.min())\n",
    "clickstream['PageCntDist'] = pd.qcut(clickstream['PageCnt'], 5, duplicates='drop', labels=[0.25,0.5,0.75,1])"
   ]
  },
  {
   "cell_type": "code",
   "execution_count": 68,
   "metadata": {},
   "outputs": [
    {
     "data": {
      "text/html": [
       "<div>\n",
       "<style scoped>\n",
       "    .dataframe tbody tr th:only-of-type {\n",
       "        vertical-align: middle;\n",
       "    }\n",
       "\n",
       "    .dataframe tbody tr th {\n",
       "        vertical-align: top;\n",
       "    }\n",
       "\n",
       "    .dataframe thead th {\n",
       "        text-align: right;\n",
       "    }\n",
       "</style>\n",
       "<table border=\"1\" class=\"dataframe\">\n",
       "  <thead>\n",
       "    <tr style=\"text-align: right;\">\n",
       "      <th></th>\n",
       "      <th>SessionId</th>\n",
       "      <th>CustId</th>\n",
       "      <th>Page</th>\n",
       "      <th>Timestamp</th>\n",
       "      <th>PageCnt</th>\n",
       "      <th>PageUnq</th>\n",
       "      <th>Path</th>\n",
       "      <th>Duration</th>\n",
       "      <th>SessionDuration</th>\n",
       "      <th>PageCntDist</th>\n",
       "    </tr>\n",
       "  </thead>\n",
       "  <tbody>\n",
       "    <tr>\n",
       "      <th>0</th>\n",
       "      <td>sess_1</td>\n",
       "      <td>cust_18</td>\n",
       "      <td>page_3</td>\n",
       "      <td>2018-07-07 10:15:51</td>\n",
       "      <td>1</td>\n",
       "      <td>1</td>\n",
       "      <td>[page_3]</td>\n",
       "      <td>NaT</td>\n",
       "      <td>00:00:00</td>\n",
       "      <td>0.25</td>\n",
       "    </tr>\n",
       "    <tr>\n",
       "      <th>1</th>\n",
       "      <td>sess_10</td>\n",
       "      <td>cust_21</td>\n",
       "      <td>page_1</td>\n",
       "      <td>2018-07-07 23:10:17</td>\n",
       "      <td>3</td>\n",
       "      <td>3</td>\n",
       "      <td>[page_1,page_4,page_3]</td>\n",
       "      <td>00:00:44</td>\n",
       "      <td>00:04:56</td>\n",
       "      <td>0.50</td>\n",
       "    </tr>\n",
       "    <tr>\n",
       "      <th>2</th>\n",
       "      <td>sess_10</td>\n",
       "      <td>cust_21</td>\n",
       "      <td>page_4</td>\n",
       "      <td>2018-07-07 23:11:01</td>\n",
       "      <td>3</td>\n",
       "      <td>3</td>\n",
       "      <td>[page_1,page_4,page_3]</td>\n",
       "      <td>00:04:12</td>\n",
       "      <td>00:04:56</td>\n",
       "      <td>0.50</td>\n",
       "    </tr>\n",
       "    <tr>\n",
       "      <th>3</th>\n",
       "      <td>sess_10</td>\n",
       "      <td>cust_21</td>\n",
       "      <td>page_3</td>\n",
       "      <td>2018-07-07 23:15:13</td>\n",
       "      <td>3</td>\n",
       "      <td>3</td>\n",
       "      <td>[page_1,page_4,page_3]</td>\n",
       "      <td>NaT</td>\n",
       "      <td>00:04:56</td>\n",
       "      <td>0.50</td>\n",
       "    </tr>\n",
       "    <tr>\n",
       "      <th>4</th>\n",
       "      <td>sess_11</td>\n",
       "      <td>cust_2</td>\n",
       "      <td>page_3</td>\n",
       "      <td>2018-07-07 16:45:46</td>\n",
       "      <td>1</td>\n",
       "      <td>1</td>\n",
       "      <td>[page_3]</td>\n",
       "      <td>NaT</td>\n",
       "      <td>00:00:00</td>\n",
       "      <td>0.25</td>\n",
       "    </tr>\n",
       "  </tbody>\n",
       "</table>\n",
       "</div>"
      ],
      "text/plain": [
       "  SessionId   CustId    Page           Timestamp  PageCnt  PageUnq  \\\n",
       "0    sess_1  cust_18  page_3 2018-07-07 10:15:51        1        1   \n",
       "1   sess_10  cust_21  page_1 2018-07-07 23:10:17        3        3   \n",
       "2   sess_10  cust_21  page_4 2018-07-07 23:11:01        3        3   \n",
       "3   sess_10  cust_21  page_3 2018-07-07 23:15:13        3        3   \n",
       "4   sess_11   cust_2  page_3 2018-07-07 16:45:46        1        1   \n",
       "\n",
       "                     Path Duration SessionDuration PageCntDist  \n",
       "0                [page_3]      NaT        00:00:00        0.25  \n",
       "1  [page_1,page_4,page_3] 00:00:44        00:04:56        0.50  \n",
       "2  [page_1,page_4,page_3] 00:04:12        00:04:56        0.50  \n",
       "3  [page_1,page_4,page_3]      NaT        00:04:56        0.50  \n",
       "4                [page_3]      NaT        00:00:00        0.25  "
      ]
     },
     "execution_count": 68,
     "metadata": {},
     "output_type": "execute_result"
    }
   ],
   "source": [
    "clickstream.head()"
   ]
  },
  {
   "cell_type": "markdown",
   "metadata": {},
   "source": [
    "## Visualization"
   ]
  },
  {
   "cell_type": "code",
   "execution_count": 100,
   "metadata": {},
   "outputs": [],
   "source": [
    "import plotly.plotly as py\n",
    "import plotly.graph_objs as go"
   ]
  },
  {
   "cell_type": "code",
   "execution_count": 101,
   "metadata": {},
   "outputs": [
    {
     "data": {
      "text/html": [
       "<script>requirejs.config({paths: { 'plotly': ['https://cdn.plot.ly/plotly-latest.min']},});if(!window.Plotly) {{require(['plotly'],function(plotly) {window.Plotly=plotly;});}}</script>"
      ],
      "text/vnd.plotly.v1+html": [
       "<script>requirejs.config({paths: { 'plotly': ['https://cdn.plot.ly/plotly-latest.min']},});if(!window.Plotly) {{require(['plotly'],function(plotly) {window.Plotly=plotly;});}}</script>"
      ]
     },
     "metadata": {},
     "output_type": "display_data"
    }
   ],
   "source": [
    "plotly.offline.init_notebook_mode(connected=True)"
   ]
  },
  {
   "cell_type": "code",
   "execution_count": 102,
   "metadata": {},
   "outputs": [],
   "source": [
    "trace = go.Scatter(\n",
    "    x = np.array(clickstream['PageCnt']),\n",
    "    y = np.array(clickstream['PageUnq']),\n",
    "    mode = 'markers'\n",
    ")"
   ]
  },
  {
   "cell_type": "code",
   "execution_count": 107,
   "metadata": {},
   "outputs": [],
   "source": [
    "layout = go.Layout(\n",
    "    \n",
    "    title = 'test correlation',\n",
    "    \n",
    "    xaxis = dict(\n",
    "    \n",
    "        title = 'PageCnt',\n",
    "        \n",
    "        titlefont = dict(\n",
    "            family='Courier New, monospace',\n",
    "            size=18,\n",
    "            color='#7f7f7f'\n",
    "        )\n",
    "    ),\n",
    "    yaxis = dict(\n",
    "    \n",
    "        title = 'PageUnq',\n",
    "\n",
    "        titlefont = dict(\n",
    "\n",
    "            family='Courier New, monospace',\n",
    "            size=18,\n",
    "            color='#7f7f7f'  \n",
    "        )\n",
    "    )  \n",
    ")"
   ]
  },
  {
   "cell_type": "code",
   "execution_count": 108,
   "metadata": {},
   "outputs": [],
   "source": [
    "fig = go.Figure(data=data, layout=layout)"
   ]
  },
  {
   "cell_type": "code",
   "execution_count": 109,
   "metadata": {},
   "outputs": [
    {
     "data": {
      "application/vnd.plotly.v1+json": {
       "data": [
        {
         "mode": "markers",
         "type": "scatter",
         "x": [
          1,
          3,
          3,
          3,
          1,
          9,
          9,
          9,
          9,
          9,
          9,
          9,
          9,
          9,
          2,
          2,
          1,
          4,
          4,
          4,
          4,
          1,
          2,
          2,
          1,
          1,
          2,
          2,
          4,
          4,
          4,
          4,
          2,
          2,
          1,
          1,
          3,
          3,
          3,
          1,
          7,
          7,
          7,
          7,
          7,
          7,
          7,
          2,
          2,
          1,
          1,
          1,
          2,
          2,
          1,
          1,
          1,
          1,
          1,
          1,
          1,
          2,
          2,
          7,
          7,
          7,
          7,
          7,
          7,
          7,
          1,
          1,
          1,
          1,
          1,
          1,
          6,
          6,
          6,
          6,
          6,
          6,
          1,
          1,
          2,
          2,
          1,
          1,
          1,
          21,
          21,
          21,
          21,
          21,
          21,
          21,
          21,
          21,
          21,
          21,
          21,
          21,
          21,
          21,
          21,
          21,
          21,
          21,
          21,
          21,
          1,
          3,
          3,
          3,
          1
         ],
         "y": [
          1,
          3,
          3,
          3,
          1,
          4,
          4,
          4,
          4,
          4,
          4,
          4,
          4,
          4,
          1,
          1,
          1,
          3,
          3,
          3,
          3,
          1,
          2,
          2,
          1,
          1,
          2,
          2,
          3,
          3,
          3,
          3,
          2,
          2,
          1,
          1,
          3,
          3,
          3,
          1,
          3,
          3,
          3,
          3,
          3,
          3,
          3,
          2,
          2,
          1,
          1,
          1,
          2,
          2,
          1,
          1,
          1,
          1,
          1,
          1,
          1,
          2,
          2,
          4,
          4,
          4,
          4,
          4,
          4,
          4,
          1,
          1,
          1,
          1,
          1,
          1,
          2,
          2,
          2,
          2,
          2,
          2,
          1,
          1,
          2,
          2,
          1,
          1,
          1,
          5,
          5,
          5,
          5,
          5,
          5,
          5,
          5,
          5,
          5,
          5,
          5,
          5,
          5,
          5,
          5,
          5,
          5,
          5,
          5,
          5,
          1,
          2,
          2,
          2,
          1
         ]
        }
       ],
       "layout": {
        "title": "test correlation",
        "xaxis": {
         "title": "PageCnt",
         "titlefont": {
          "color": "#7f7f7f",
          "family": "Courier New, monospace",
          "size": 18
         }
        },
        "yaxis": {
         "title": "PageUnq",
         "titlefont": {
          "color": "#7f7f7f",
          "family": "Courier New, monospace",
          "size": 18
         }
        }
       }
      },
      "text/html": [
       "<div id=\"7074d34a-e5f9-4ec3-8fa7-30d8b3eda205\" style=\"height: 525px; width: 100%;\" class=\"plotly-graph-div\"></div><script type=\"text/javascript\">require([\"plotly\"], function(Plotly) { window.PLOTLYENV=window.PLOTLYENV || {};window.PLOTLYENV.BASE_URL=\"https://plot.ly\";Plotly.newPlot(\"7074d34a-e5f9-4ec3-8fa7-30d8b3eda205\", [{\"type\": \"scatter\", \"x\": [1, 3, 3, 3, 1, 9, 9, 9, 9, 9, 9, 9, 9, 9, 2, 2, 1, 4, 4, 4, 4, 1, 2, 2, 1, 1, 2, 2, 4, 4, 4, 4, 2, 2, 1, 1, 3, 3, 3, 1, 7, 7, 7, 7, 7, 7, 7, 2, 2, 1, 1, 1, 2, 2, 1, 1, 1, 1, 1, 1, 1, 2, 2, 7, 7, 7, 7, 7, 7, 7, 1, 1, 1, 1, 1, 1, 6, 6, 6, 6, 6, 6, 1, 1, 2, 2, 1, 1, 1, 21, 21, 21, 21, 21, 21, 21, 21, 21, 21, 21, 21, 21, 21, 21, 21, 21, 21, 21, 21, 21, 1, 3, 3, 3, 1], \"y\": [1, 3, 3, 3, 1, 4, 4, 4, 4, 4, 4, 4, 4, 4, 1, 1, 1, 3, 3, 3, 3, 1, 2, 2, 1, 1, 2, 2, 3, 3, 3, 3, 2, 2, 1, 1, 3, 3, 3, 1, 3, 3, 3, 3, 3, 3, 3, 2, 2, 1, 1, 1, 2, 2, 1, 1, 1, 1, 1, 1, 1, 2, 2, 4, 4, 4, 4, 4, 4, 4, 1, 1, 1, 1, 1, 1, 2, 2, 2, 2, 2, 2, 1, 1, 2, 2, 1, 1, 1, 5, 5, 5, 5, 5, 5, 5, 5, 5, 5, 5, 5, 5, 5, 5, 5, 5, 5, 5, 5, 5, 1, 2, 2, 2, 1], \"mode\": \"markers\"}], {\"title\": \"test correlation\", \"xaxis\": {\"title\": \"PageCnt\", \"titlefont\": {\"family\": \"Courier New, monospace\", \"size\": 18, \"color\": \"#7f7f7f\"}}, \"yaxis\": {\"title\": \"PageUnq\", \"titlefont\": {\"family\": \"Courier New, monospace\", \"size\": 18, \"color\": \"#7f7f7f\"}}}, {\"showLink\": true, \"linkText\": \"Export to plot.ly\"})});</script>"
      ],
      "text/vnd.plotly.v1+html": [
       "<div id=\"7074d34a-e5f9-4ec3-8fa7-30d8b3eda205\" style=\"height: 525px; width: 100%;\" class=\"plotly-graph-div\"></div><script type=\"text/javascript\">require([\"plotly\"], function(Plotly) { window.PLOTLYENV=window.PLOTLYENV || {};window.PLOTLYENV.BASE_URL=\"https://plot.ly\";Plotly.newPlot(\"7074d34a-e5f9-4ec3-8fa7-30d8b3eda205\", [{\"type\": \"scatter\", \"x\": [1, 3, 3, 3, 1, 9, 9, 9, 9, 9, 9, 9, 9, 9, 2, 2, 1, 4, 4, 4, 4, 1, 2, 2, 1, 1, 2, 2, 4, 4, 4, 4, 2, 2, 1, 1, 3, 3, 3, 1, 7, 7, 7, 7, 7, 7, 7, 2, 2, 1, 1, 1, 2, 2, 1, 1, 1, 1, 1, 1, 1, 2, 2, 7, 7, 7, 7, 7, 7, 7, 1, 1, 1, 1, 1, 1, 6, 6, 6, 6, 6, 6, 1, 1, 2, 2, 1, 1, 1, 21, 21, 21, 21, 21, 21, 21, 21, 21, 21, 21, 21, 21, 21, 21, 21, 21, 21, 21, 21, 21, 1, 3, 3, 3, 1], \"y\": [1, 3, 3, 3, 1, 4, 4, 4, 4, 4, 4, 4, 4, 4, 1, 1, 1, 3, 3, 3, 3, 1, 2, 2, 1, 1, 2, 2, 3, 3, 3, 3, 2, 2, 1, 1, 3, 3, 3, 1, 3, 3, 3, 3, 3, 3, 3, 2, 2, 1, 1, 1, 2, 2, 1, 1, 1, 1, 1, 1, 1, 2, 2, 4, 4, 4, 4, 4, 4, 4, 1, 1, 1, 1, 1, 1, 2, 2, 2, 2, 2, 2, 1, 1, 2, 2, 1, 1, 1, 5, 5, 5, 5, 5, 5, 5, 5, 5, 5, 5, 5, 5, 5, 5, 5, 5, 5, 5, 5, 5, 1, 2, 2, 2, 1], \"mode\": \"markers\"}], {\"title\": \"test correlation\", \"xaxis\": {\"title\": \"PageCnt\", \"titlefont\": {\"family\": \"Courier New, monospace\", \"size\": 18, \"color\": \"#7f7f7f\"}}, \"yaxis\": {\"title\": \"PageUnq\", \"titlefont\": {\"family\": \"Courier New, monospace\", \"size\": 18, \"color\": \"#7f7f7f\"}}}, {\"showLink\": true, \"linkText\": \"Export to plot.ly\"})});</script>"
      ]
     },
     "metadata": {},
     "output_type": "display_data"
    }
   ],
   "source": [
    "plotly.offline.iplot(fig)"
   ]
  },
  {
   "cell_type": "code",
   "execution_count": null,
   "metadata": {},
   "outputs": [],
   "source": []
  }
 ],
 "metadata": {
  "kernelspec": {
   "display_name": "Python 3",
   "language": "python",
   "name": "python3"
  },
  "language_info": {
   "codemirror_mode": {
    "name": "ipython",
    "version": 3
   },
   "file_extension": ".py",
   "mimetype": "text/x-python",
   "name": "python",
   "nbconvert_exporter": "python",
   "pygments_lexer": "ipython3",
   "version": "3.6.4"
  },
  "toc": {
   "nav_menu": {},
   "number_sections": true,
   "sideBar": true,
   "skip_h1_title": false,
   "toc_cell": false,
   "toc_position": {},
   "toc_section_display": "block",
   "toc_window_display": true
  },
  "varInspector": {
   "cols": {
    "lenName": 16,
    "lenType": 16,
    "lenVar": 40
   },
   "kernels_config": {
    "python": {
     "delete_cmd_postfix": "",
     "delete_cmd_prefix": "del ",
     "library": "var_list.py",
     "varRefreshCmd": "print(var_dic_list())"
    },
    "r": {
     "delete_cmd_postfix": ") ",
     "delete_cmd_prefix": "rm(",
     "library": "var_list.r",
     "varRefreshCmd": "cat(var_dic_list()) "
    }
   },
   "types_to_exclude": [
    "module",
    "function",
    "builtin_function_or_method",
    "instance",
    "_Feature"
   ],
   "window_display": true
  }
 },
 "nbformat": 4,
 "nbformat_minor": 2
}
